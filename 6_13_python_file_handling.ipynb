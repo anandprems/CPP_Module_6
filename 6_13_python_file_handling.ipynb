{
 "cells": [
  {
   "cell_type": "code",
   "execution_count": 57,
   "id": "85ef7ddb",
   "metadata": {},
   "outputs": [],
   "source": [
    "#How to Create a Text File in Python\n",
    "#open the file\n",
    "file= open(\"sample.txt\",\"w+\")"
   ]
  },
  {
   "cell_type": "code",
   "execution_count": 58,
   "id": "a236bcd0",
   "metadata": {},
   "outputs": [
    {
     "data": {
      "text/plain": [
       "113"
      ]
     },
     "execution_count": 58,
     "metadata": {},
     "output_type": "execute_result"
    }
   ],
   "source": [
    "#Enter data into the file\n",
    "file.write(\"Learning gives creativity, creativity leads to thinking, thinking provides knowledge, knowledge makes you great.!\")\n",
    "#for i in range(10):\n",
    "#     file.write(\"This is line %d\\r\\n\" % (i+1))"
   ]
  },
  {
   "cell_type": "code",
   "execution_count": 59,
   "id": "08e2fb58",
   "metadata": {},
   "outputs": [],
   "source": [
    "#close the file\n",
    "file.close()"
   ]
  },
  {
   "cell_type": "code",
   "execution_count": 60,
   "id": "1d305e74",
   "metadata": {},
   "outputs": [],
   "source": [
    "#How to Append Text File in Python\n",
    "file= open(\"sample.txt\",\"a+\")"
   ]
  },
  {
   "cell_type": "code",
   "execution_count": 61,
   "id": "f6fe52cd",
   "metadata": {},
   "outputs": [
    {
     "data": {
      "text/plain": [
       "79"
      ]
     },
     "execution_count": 61,
     "metadata": {},
     "output_type": "execute_result"
    }
   ],
   "source": [
    "file.write(\"To succeed in your mission, you must have single-minded devotion to your goal.!\")\n",
    "#for i in range(4):\n",
    "#     file.write(\"Appended line %d\\r\\n\" % (i+1))"
   ]
  },
  {
   "cell_type": "code",
   "execution_count": 62,
   "id": "3e5ce1a5",
   "metadata": {},
   "outputs": [],
   "source": [
    "#close the file\n",
    "file.close()"
   ]
  },
  {
   "cell_type": "code",
   "execution_count": 63,
   "id": "583125e2",
   "metadata": {},
   "outputs": [],
   "source": [
    "#How to Read Files in Python\n",
    "file= open(\"sample.txt\",\"r\")"
   ]
  },
  {
   "cell_type": "code",
   "execution_count": 64,
   "id": "e78d8e50",
   "metadata": {},
   "outputs": [],
   "source": [
    "if file.mode == 'r':\n",
    "    contents =file.read()"
   ]
  },
  {
   "cell_type": "code",
   "execution_count": 65,
   "id": "9b91a71a",
   "metadata": {},
   "outputs": [
    {
     "name": "stdout",
     "output_type": "stream",
     "text": [
      "The content in the file: Read function Learning gives creativity, creativity leads to thinking, thinking provides knowledge, knowledge makes you great.!To succeed in your mission, you must have single-minded devotion to your goal.!\n"
     ]
    }
   ],
   "source": [
    "print('The content in the file: Read function',contents)"
   ]
  },
  {
   "cell_type": "code",
   "execution_count": 66,
   "id": "1b9a086a",
   "metadata": {},
   "outputs": [],
   "source": [
    "#How to Read a File line by line in Python\n",
    "file= open(\"sample.txt\",\"r\")"
   ]
  },
  {
   "cell_type": "code",
   "execution_count": 67,
   "id": "5a32c7a5",
   "metadata": {},
   "outputs": [
    {
     "data": {
      "text/plain": [
       "'Learning gives creativity, creativity leads to thinking, thinking provides knowledge, knowledge makes you great.!To succeed in your mission, you must have single-minded devotion to your goal.!'"
      ]
     },
     "execution_count": 67,
     "metadata": {},
     "output_type": "execute_result"
    }
   ],
   "source": [
    "file.read()"
   ]
  },
  {
   "cell_type": "code",
   "execution_count": 68,
   "id": "8a759ac1",
   "metadata": {},
   "outputs": [],
   "source": [
    "file.close()"
   ]
  },
  {
   "cell_type": "code",
   "execution_count": 69,
   "id": "ba2f5d42",
   "metadata": {},
   "outputs": [],
   "source": [
    "#How to Read a File line by line in Python\n",
    "file= open(\"sample.txt\",\"r\")"
   ]
  },
  {
   "cell_type": "code",
   "execution_count": 70,
   "id": "b2eb5b13",
   "metadata": {},
   "outputs": [
    {
     "data": {
      "text/plain": [
       "'Learning g'"
      ]
     },
     "execution_count": 70,
     "metadata": {},
     "output_type": "execute_result"
    }
   ],
   "source": [
    "file.read(10)"
   ]
  },
  {
   "cell_type": "code",
   "execution_count": 71,
   "id": "47109931",
   "metadata": {},
   "outputs": [],
   "source": [
    "file.close()"
   ]
  },
  {
   "cell_type": "code",
   "execution_count": 72,
   "id": "61a89798",
   "metadata": {},
   "outputs": [],
   "source": [
    "#How to Read a File line by line in Python\n",
    "file= open(\"sample.txt\",\"r\")"
   ]
  },
  {
   "cell_type": "code",
   "execution_count": 73,
   "id": "7b865e18",
   "metadata": {},
   "outputs": [
    {
     "data": {
      "text/plain": [
       "'Learning gives creat'"
      ]
     },
     "execution_count": 73,
     "metadata": {},
     "output_type": "execute_result"
    }
   ],
   "source": [
    "file.read(20)"
   ]
  },
  {
   "cell_type": "code",
   "execution_count": 74,
   "id": "aeadf0cc",
   "metadata": {},
   "outputs": [
    {
     "data": {
      "text/plain": [
       "20"
      ]
     },
     "execution_count": 74,
     "metadata": {},
     "output_type": "execute_result"
    }
   ],
   "source": [
    " # get the current file position\n",
    "file.tell()"
   ]
  },
  {
   "cell_type": "code",
   "execution_count": 75,
   "id": "1e1d995c",
   "metadata": {},
   "outputs": [
    {
     "data": {
      "text/plain": [
       "0"
      ]
     },
     "execution_count": 75,
     "metadata": {},
     "output_type": "execute_result"
    }
   ],
   "source": [
    "# bring file cursor to initial position\n",
    "file.seek(0)"
   ]
  },
  {
   "cell_type": "code",
   "execution_count": 76,
   "id": "06278128",
   "metadata": {},
   "outputs": [],
   "source": [
    "file.close()"
   ]
  },
  {
   "cell_type": "code",
   "execution_count": 77,
   "id": "4d185ab9",
   "metadata": {},
   "outputs": [],
   "source": [
    "#How to Read a File line by line in Python\n",
    "file= open(\"sample.txt\",\"r\")"
   ]
  },
  {
   "cell_type": "code",
   "execution_count": 78,
   "id": "76cba9da",
   "metadata": {},
   "outputs": [
    {
     "name": "stdout",
     "output_type": "stream",
     "text": [
      "Learning gives creativity, creativity leads to thinking, thinking provides knowledge, knowledge makes you great.!To succeed in your mission, you must have single-minded devotion to your goal.!\n"
     ]
    }
   ],
   "source": [
    "#for reading entire file\n",
    "print(file.read())"
   ]
  },
  {
   "cell_type": "code",
   "execution_count": 79,
   "id": "ac6c955c",
   "metadata": {},
   "outputs": [],
   "source": [
    "file.close()"
   ]
  },
  {
   "cell_type": "code",
   "execution_count": 80,
   "id": "bfc19978",
   "metadata": {},
   "outputs": [],
   "source": [
    "#How to Read a File line by line in Python\n",
    "file= open(\"sample.txt\",\"r\")"
   ]
  },
  {
   "cell_type": "code",
   "execution_count": 81,
   "id": "a47bc78d",
   "metadata": {},
   "outputs": [
    {
     "name": "stdout",
     "output_type": "stream",
     "text": [
      "Learning gives creativity, creativity leads to thinking, thinking provides knowledge, knowledge makes you great.!To succeed in your mission, you must have single-minded devotion to your goal.!\n"
     ]
    }
   ],
   "source": [
    "print(file.readline())"
   ]
  },
  {
   "cell_type": "code",
   "execution_count": 82,
   "id": "d74edba6",
   "metadata": {},
   "outputs": [
    {
     "name": "stdout",
     "output_type": "stream",
     "text": [
      "[]\n"
     ]
    }
   ],
   "source": [
    "#print(file.readlines())"
   ]
  },
  {
   "cell_type": "code",
   "execution_count": 88,
   "id": "a3d6cb78",
   "metadata": {},
   "outputs": [
    {
     "name": "stdout",
     "output_type": "stream",
     "text": [
      "\n"
     ]
    }
   ],
   "source": [
    "#How to Read a File line by line in Python\n",
    "file= open(\"sample.txt\",\"r\")\n",
    "\n",
    "for line in file:\n",
    "    print(file.readline())\n",
    "    \n",
    "file.close()"
   ]
  },
  {
   "cell_type": "code",
   "execution_count": 89,
   "id": "9e923198",
   "metadata": {},
   "outputs": [],
   "source": [
    "#open the file in binary mode\n",
    "file_2 = open(\"file_bmp.bmp\",'w+')\n",
    "\n",
    "file_2.close()"
   ]
  },
  {
   "cell_type": "code",
   "execution_count": 91,
   "id": "ce6224c6",
   "metadata": {},
   "outputs": [],
   "source": [
    "#another way to write a file \n",
    "with open(\"test.txt\",'w',encoding = 'utf-8') as f:\n",
    "   f.write(\"my first file\\n\")\n",
    "   f.write(\"This file\\n\\n\")\n",
    "   f.write(\"contains three lines\\n\")"
   ]
  },
  {
   "cell_type": "code",
   "execution_count": null,
   "id": "48027086",
   "metadata": {},
   "outputs": [],
   "source": []
  }
 ],
 "metadata": {
  "kernelspec": {
   "display_name": "Python 3 (ipykernel)",
   "language": "python",
   "name": "python3"
  },
  "language_info": {
   "codemirror_mode": {
    "name": "ipython",
    "version": 3
   },
   "file_extension": ".py",
   "mimetype": "text/x-python",
   "name": "python",
   "nbconvert_exporter": "python",
   "pygments_lexer": "ipython3",
   "version": "3.9.7"
  }
 },
 "nbformat": 4,
 "nbformat_minor": 5
}
